{
 "cells": [
  {
   "cell_type": "code",
   "execution_count": 1,
   "id": "initial_id",
   "metadata": {
    "collapsed": true,
    "ExecuteTime": {
     "end_time": "2024-04-20T12:50:31.298025500Z",
     "start_time": "2024-04-20T12:50:31.057816800Z"
    }
   },
   "outputs": [],
   "source": [
    "import pandas as pd\n",
    "import os\n",
    "pd.options.mode.chained_assignment = None\n",
    "\n",
    "os.chdir('../')"
   ]
  },
  {
   "cell_type": "code",
   "execution_count": 8,
   "outputs": [
    {
     "data": {
      "text/plain": "                                   CanonicalizedReaction  Yield  \\\n5      CCOC(=O)C(C)c1ccc2c(c1)Cc1cccnc1S2>>CC(C(=O)O)...   88.3   \n6      CC(C(=O)O)c1ccc(O)c(C(=O)c2cccnc2Cl)c1>>CC(C(=...   72.7   \n10     CC(O)c1ccc(-c2ccc([N+](=O)[O-])cc2)o1>>CC(O)c1...   71.0   \n11     CCC(=O)c1ccc(-c2ccc(Cl)cc2)o1>>CCC(O)c1ccc(-c2...   99.0   \n14     CC=CC(=O)C=C(C)CCC=C(C)C>>C/C=C/C(=O)C1C(C)=CC...   50.0   \n...                                                  ...    ...   \n26388  O=c1c2c(Cc3ccc(Cl)cc3)c(-c3cccc(Cl)c3)oc2n(CCC...   58.0   \n26393  CC(=O)Nc1cc(-c2ccc(F)cc2F)cc(-n2cnc3cc(-c4ccc(...   84.3   \n26396    CC1(c2cccc(C#N)c2)OCCO1>>CC1(c2cccc(CN)c2)OCCO1   60.0   \n26400  NC(=O)c1c(-c2ccc(Oc3ccccc3)cc2)nn2c1ncc1ccc([N...   83.0   \n26402  Cc1nc2c(OCC3CCCCC3)cccn2c1C(=O)N[C@@H](CN(C)S(...   57.6   \n\n       count_reactant                                          reactant1  \\\n5                   1                 CCOC(=O)C(C)c1ccc2c(c1)Cc1cccnc1S2   \n6                   1             CC(C(=O)O)c1ccc(O)c(C(=O)c2cccnc2Cl)c1   \n10                  1              CC(O)c1ccc(-c2ccc([N+](=O)[O-])cc2)o1   \n11                  1                      CCC(=O)c1ccc(-c2ccc(Cl)cc2)o1   \n14                  1                           CC=CC(=O)C=C(C)CCC=C(C)C   \n...               ...                                                ...   \n26388               1  O=c1c2c(Cc3ccc(Cl)cc3)c(-c3cccc(Cl)c3)oc2n(CCC...   \n26393               1  CC(=O)Nc1cc(-c2ccc(F)cc2F)cc(-n2cnc3cc(-c4ccc(...   \n26396               1                            CC1(c2cccc(C#N)c2)OCCO1   \n26400               1  NC(=O)c1c(-c2ccc(Oc3ccccc3)cc2)nn2c1ncc1ccc([N...   \n26402               1  Cc1nc2c(OCC3CCCCC3)cccn2c1C(=O)N[C@@H](CN(C)S(...   \n\n                                                 pruduct reactant2  \n5                       CC(C(=O)O)c1ccc2c(c1)Cc1cccnc1S2      None  \n6                     CC(C(=O)O)c1ccc2oc3ncccc3c(=O)c2c1      None  \n10                            CC(O)c1ccc(-c2ccc(N)cc2)o1      None  \n11                          CCC(O)c1ccc(-c2ccc(Cl)cc2)o1      None  \n14                           C/C=C/C(=O)C1C(C)=CCCC1(C)C      None  \n...                                                  ...       ...  \n26388  O=c1c2c(Cc3ccc(Cl)cc3)c(-c3cccc(Cl)c3)oc2n(CCC...      None  \n26393  CC(=O)Nc1cc(-c2ccc(F)cc2F)cc(-n2cnc3cc(-c4ccc(...      None  \n26396                             CC1(c2cccc(CN)c2)OCCO1      None  \n26400  NC(=O)c1c(-c2ccc(Oc3ccccc3)cc2)nn2c1NCc1ccc([N...      None  \n26402  CNC[C@H](NC(=O)c1c(C)nc2c(OCC3CCCCC3)cccn12)c1...      None  \n\n[6736 rows x 6 columns]",
      "text/html": "<div>\n<style scoped>\n    .dataframe tbody tr th:only-of-type {\n        vertical-align: middle;\n    }\n\n    .dataframe tbody tr th {\n        vertical-align: top;\n    }\n\n    .dataframe thead th {\n        text-align: right;\n    }\n</style>\n<table border=\"1\" class=\"dataframe\">\n  <thead>\n    <tr style=\"text-align: right;\">\n      <th></th>\n      <th>CanonicalizedReaction</th>\n      <th>Yield</th>\n      <th>count_reactant</th>\n      <th>reactant1</th>\n      <th>pruduct</th>\n      <th>reactant2</th>\n    </tr>\n  </thead>\n  <tbody>\n    <tr>\n      <th>5</th>\n      <td>CCOC(=O)C(C)c1ccc2c(c1)Cc1cccnc1S2&gt;&gt;CC(C(=O)O)...</td>\n      <td>88.3</td>\n      <td>1</td>\n      <td>CCOC(=O)C(C)c1ccc2c(c1)Cc1cccnc1S2</td>\n      <td>CC(C(=O)O)c1ccc2c(c1)Cc1cccnc1S2</td>\n      <td>None</td>\n    </tr>\n    <tr>\n      <th>6</th>\n      <td>CC(C(=O)O)c1ccc(O)c(C(=O)c2cccnc2Cl)c1&gt;&gt;CC(C(=...</td>\n      <td>72.7</td>\n      <td>1</td>\n      <td>CC(C(=O)O)c1ccc(O)c(C(=O)c2cccnc2Cl)c1</td>\n      <td>CC(C(=O)O)c1ccc2oc3ncccc3c(=O)c2c1</td>\n      <td>None</td>\n    </tr>\n    <tr>\n      <th>10</th>\n      <td>CC(O)c1ccc(-c2ccc([N+](=O)[O-])cc2)o1&gt;&gt;CC(O)c1...</td>\n      <td>71.0</td>\n      <td>1</td>\n      <td>CC(O)c1ccc(-c2ccc([N+](=O)[O-])cc2)o1</td>\n      <td>CC(O)c1ccc(-c2ccc(N)cc2)o1</td>\n      <td>None</td>\n    </tr>\n    <tr>\n      <th>11</th>\n      <td>CCC(=O)c1ccc(-c2ccc(Cl)cc2)o1&gt;&gt;CCC(O)c1ccc(-c2...</td>\n      <td>99.0</td>\n      <td>1</td>\n      <td>CCC(=O)c1ccc(-c2ccc(Cl)cc2)o1</td>\n      <td>CCC(O)c1ccc(-c2ccc(Cl)cc2)o1</td>\n      <td>None</td>\n    </tr>\n    <tr>\n      <th>14</th>\n      <td>CC=CC(=O)C=C(C)CCC=C(C)C&gt;&gt;C/C=C/C(=O)C1C(C)=CC...</td>\n      <td>50.0</td>\n      <td>1</td>\n      <td>CC=CC(=O)C=C(C)CCC=C(C)C</td>\n      <td>C/C=C/C(=O)C1C(C)=CCCC1(C)C</td>\n      <td>None</td>\n    </tr>\n    <tr>\n      <th>...</th>\n      <td>...</td>\n      <td>...</td>\n      <td>...</td>\n      <td>...</td>\n      <td>...</td>\n      <td>...</td>\n    </tr>\n    <tr>\n      <th>26388</th>\n      <td>O=c1c2c(Cc3ccc(Cl)cc3)c(-c3cccc(Cl)c3)oc2n(CCC...</td>\n      <td>58.0</td>\n      <td>1</td>\n      <td>O=c1c2c(Cc3ccc(Cl)cc3)c(-c3cccc(Cl)c3)oc2n(CCC...</td>\n      <td>O=c1c2c(Cc3ccc(Cl)cc3)c(-c3cccc(Cl)c3)oc2n(CCC...</td>\n      <td>None</td>\n    </tr>\n    <tr>\n      <th>26393</th>\n      <td>CC(=O)Nc1cc(-c2ccc(F)cc2F)cc(-n2cnc3cc(-c4ccc(...</td>\n      <td>84.3</td>\n      <td>1</td>\n      <td>CC(=O)Nc1cc(-c2ccc(F)cc2F)cc(-n2cnc3cc(-c4ccc(...</td>\n      <td>CC(=O)Nc1cc(-c2ccc(F)cc2F)cc(-n2cnc3cc(-c4ccc(...</td>\n      <td>None</td>\n    </tr>\n    <tr>\n      <th>26396</th>\n      <td>CC1(c2cccc(C#N)c2)OCCO1&gt;&gt;CC1(c2cccc(CN)c2)OCCO1</td>\n      <td>60.0</td>\n      <td>1</td>\n      <td>CC1(c2cccc(C#N)c2)OCCO1</td>\n      <td>CC1(c2cccc(CN)c2)OCCO1</td>\n      <td>None</td>\n    </tr>\n    <tr>\n      <th>26400</th>\n      <td>NC(=O)c1c(-c2ccc(Oc3ccccc3)cc2)nn2c1ncc1ccc([N...</td>\n      <td>83.0</td>\n      <td>1</td>\n      <td>NC(=O)c1c(-c2ccc(Oc3ccccc3)cc2)nn2c1ncc1ccc([N...</td>\n      <td>NC(=O)c1c(-c2ccc(Oc3ccccc3)cc2)nn2c1NCc1ccc([N...</td>\n      <td>None</td>\n    </tr>\n    <tr>\n      <th>26402</th>\n      <td>Cc1nc2c(OCC3CCCCC3)cccn2c1C(=O)N[C@@H](CN(C)S(...</td>\n      <td>57.6</td>\n      <td>1</td>\n      <td>Cc1nc2c(OCC3CCCCC3)cccn2c1C(=O)N[C@@H](CN(C)S(...</td>\n      <td>CNC[C@H](NC(=O)c1c(C)nc2c(OCC3CCCCC3)cccn12)c1...</td>\n      <td>None</td>\n    </tr>\n  </tbody>\n</table>\n<p>6736 rows × 6 columns</p>\n</div>"
     },
     "execution_count": 8,
     "metadata": {},
     "output_type": "execute_result"
    }
   ],
   "source": [
    "df = pd.read_csv('Data\\dataset.csv', sep = '\\t',\n",
    "                     engine = 'python', usecols = ['CanonicalizedReaction', 'Yield'])\n",
    "\n",
    "df['CanonicalizedReaction'] = df['CanonicalizedReaction'].str.replace(r'>.*?>', '>>', regex=True)\n",
    "df['count_reactant'] = df['CanonicalizedReaction'].apply(lambda s: s.count('.') + 1)\n",
    "\n",
    "df1 = df[df['count_reactant'] == 2]\n",
    "split = df1['CanonicalizedReaction'].str.split('>>', expand=True)\n",
    "split['reactant2'] = None\n",
    "split = split.rename(columns={0: 'reactant1', 1: 'pruduct'})\n",
    "df1 = df1.join(split)\n",
    "df1"
   ],
   "metadata": {
    "collapsed": false,
    "ExecuteTime": {
     "end_time": "2024-04-20T12:58:20.647984200Z",
     "start_time": "2024-04-20T12:58:19.858083100Z"
    }
   },
   "id": "ec44d92d6d0c4677"
  },
  {
   "cell_type": "code",
   "execution_count": 13,
   "outputs": [
    {
     "data": {
      "text/plain": "                                   CanonicalizedReaction  Yield  \\\n0      CC(C)(C)NNC(C)(C#N)C1CC1.O=C1CCCCCC1>>CC(C)(C)...   95.0   \n1      CC(C)N.O=C1CCC(c2ccc(OCC3CO3)cc2)=NN1>>CC(C)NC...  100.0   \n2      CO.O=C(O)CCC(=O)c1ccccc1O>>COC(=O)CCC(=O)c1ccc...   98.0   \n3      CC(=O)c1ccc2c(c1)C(C)(C)c1cccnc1O2.[OH-]>>CC1(...   78.6   \n4      CSc1ccc(N=C=O)cc1.OCc1cccnc1>>CSc1ccc(NC(=O)OC...   95.0   \n...                                                  ...    ...   \n26397  CC(Cc1ccccc1)C(=O)O.Nc1ccc2oc(-c3ccncc3)nc2c1>...   75.0   \n26398  CC(=O)c1cccc(C(C)N=C=O)c1.O=C1N[C@H](Cc2ccccc2...   80.0   \n26399  N#Cc1c(-c2ccc(O)cc2)nn2c1NCCC2c1ccccc1N.O=C(Cl...   62.0   \n26401  CC(C)(C)OC(=O)NCCN1CCN(C/C=C/C(=O)O)CC1.NC(=O)...   58.0   \n26403  COc1ccc2cc(N)ccc2c1.O=C1CCC(=O)N1Br>>COc1ccc2c...   74.4   \n\n       count_reactant                                          reactant1  \\\n0                   2               CC(C)(C)NNC(C)(C#N)C1CC1.O=C1CCCCCC1   \n1                   2              CC(C)N.O=C1CCC(c2ccc(OCC3CO3)cc2)=NN1   \n2                   2                          CO.O=C(O)CCC(=O)c1ccccc1O   \n3                   2           CC(=O)c1ccc2c(c1)C(C)(C)c1cccnc1O2.[OH-]   \n4                   2                       CSc1ccc(N=C=O)cc1.OCc1cccnc1   \n...               ...                                                ...   \n26397               2      CC(Cc1ccccc1)C(=O)O.Nc1ccc2oc(-c3ccncc3)nc2c1   \n26398               2  CC(=O)c1cccc(C(C)N=C=O)c1.O=C1N[C@H](Cc2ccccc2...   \n26399               2  N#Cc1c(-c2ccc(O)cc2)nn2c1NCCC2c1ccccc1N.O=C(Cl...   \n26401               2  CC(C)(C)OC(=O)NCCN1CCN(C/C=C/C(=O)O)CC1.NC(=O)...   \n26403               2                COc1ccc2cc(N)ccc2c1.O=C1CCC(=O)N1Br   \n\n                                                 pruduct  \\\n0                               CC(C)(C)NNC1(C#N)CCCCCC1   \n1                   CC(C)NCC(O)COc1ccc(C2=NNC(=O)CC2)cc1   \n2                                COC(=O)CCC(=O)c1ccccc1O   \n3                       CC1(C)c2cc(C(=O)O)ccc2Oc2ncccc21   \n4                           CSc1ccc(NC(=O)OCc2cccnc2)cc1   \n...                                                  ...   \n26397        CC(Cc1ccccc1)C(=O)Nc1ccc2oc(-c3ccncc3)nc2c1   \n26398                            CC1(c2cccc(C#N)c2)OCCO1   \n26399  N#Cc1c(-c2ccc(O)cc2)nn2c1NCCC2c1ccccc1NC(=O)OC...   \n26401  CC(C)(C)OC(=O)NCCN1CCN(C/C=C/C(=O)N2CCC([C@@H]...   \n26403                            COc1ccc2c(Br)c(N)ccc2c1   \n\n                                               reactant2  \n0                                            O=C1CCCCCC1  \n1                         O=C1CCC(c2ccc(OCC3CO3)cc2)=NN1  \n2                                 O=C(O)CCC(=O)c1ccccc1O  \n3                                                  [OH-]  \n4                                             OCc1cccnc1  \n...                                                  ...  \n26397                          Nc1ccc2oc(-c3ccncc3)nc2c1  \n26398                           O=C1N[C@H](Cc2ccccc2)CO1  \n26399                                  O=C(Cl)OCc1ccccc1  \n26401  NC(=O)c1c(-c2ccc(Oc3ccccc3)cc2)nn2c1NCC[C@H]2C...  \n26403                                    O=C1CCC(=O)N1Br  \n\n[17895 rows x 6 columns]",
      "text/html": "<div>\n<style scoped>\n    .dataframe tbody tr th:only-of-type {\n        vertical-align: middle;\n    }\n\n    .dataframe tbody tr th {\n        vertical-align: top;\n    }\n\n    .dataframe thead th {\n        text-align: right;\n    }\n</style>\n<table border=\"1\" class=\"dataframe\">\n  <thead>\n    <tr style=\"text-align: right;\">\n      <th></th>\n      <th>CanonicalizedReaction</th>\n      <th>Yield</th>\n      <th>count_reactant</th>\n      <th>reactant1</th>\n      <th>pruduct</th>\n      <th>reactant2</th>\n    </tr>\n  </thead>\n  <tbody>\n    <tr>\n      <th>0</th>\n      <td>CC(C)(C)NNC(C)(C#N)C1CC1.O=C1CCCCCC1&gt;&gt;CC(C)(C)...</td>\n      <td>95.0</td>\n      <td>2</td>\n      <td>CC(C)(C)NNC(C)(C#N)C1CC1.O=C1CCCCCC1</td>\n      <td>CC(C)(C)NNC1(C#N)CCCCCC1</td>\n      <td>O=C1CCCCCC1</td>\n    </tr>\n    <tr>\n      <th>1</th>\n      <td>CC(C)N.O=C1CCC(c2ccc(OCC3CO3)cc2)=NN1&gt;&gt;CC(C)NC...</td>\n      <td>100.0</td>\n      <td>2</td>\n      <td>CC(C)N.O=C1CCC(c2ccc(OCC3CO3)cc2)=NN1</td>\n      <td>CC(C)NCC(O)COc1ccc(C2=NNC(=O)CC2)cc1</td>\n      <td>O=C1CCC(c2ccc(OCC3CO3)cc2)=NN1</td>\n    </tr>\n    <tr>\n      <th>2</th>\n      <td>CO.O=C(O)CCC(=O)c1ccccc1O&gt;&gt;COC(=O)CCC(=O)c1ccc...</td>\n      <td>98.0</td>\n      <td>2</td>\n      <td>CO.O=C(O)CCC(=O)c1ccccc1O</td>\n      <td>COC(=O)CCC(=O)c1ccccc1O</td>\n      <td>O=C(O)CCC(=O)c1ccccc1O</td>\n    </tr>\n    <tr>\n      <th>3</th>\n      <td>CC(=O)c1ccc2c(c1)C(C)(C)c1cccnc1O2.[OH-]&gt;&gt;CC1(...</td>\n      <td>78.6</td>\n      <td>2</td>\n      <td>CC(=O)c1ccc2c(c1)C(C)(C)c1cccnc1O2.[OH-]</td>\n      <td>CC1(C)c2cc(C(=O)O)ccc2Oc2ncccc21</td>\n      <td>[OH-]</td>\n    </tr>\n    <tr>\n      <th>4</th>\n      <td>CSc1ccc(N=C=O)cc1.OCc1cccnc1&gt;&gt;CSc1ccc(NC(=O)OC...</td>\n      <td>95.0</td>\n      <td>2</td>\n      <td>CSc1ccc(N=C=O)cc1.OCc1cccnc1</td>\n      <td>CSc1ccc(NC(=O)OCc2cccnc2)cc1</td>\n      <td>OCc1cccnc1</td>\n    </tr>\n    <tr>\n      <th>...</th>\n      <td>...</td>\n      <td>...</td>\n      <td>...</td>\n      <td>...</td>\n      <td>...</td>\n      <td>...</td>\n    </tr>\n    <tr>\n      <th>26397</th>\n      <td>CC(Cc1ccccc1)C(=O)O.Nc1ccc2oc(-c3ccncc3)nc2c1&gt;...</td>\n      <td>75.0</td>\n      <td>2</td>\n      <td>CC(Cc1ccccc1)C(=O)O.Nc1ccc2oc(-c3ccncc3)nc2c1</td>\n      <td>CC(Cc1ccccc1)C(=O)Nc1ccc2oc(-c3ccncc3)nc2c1</td>\n      <td>Nc1ccc2oc(-c3ccncc3)nc2c1</td>\n    </tr>\n    <tr>\n      <th>26398</th>\n      <td>CC(=O)c1cccc(C(C)N=C=O)c1.O=C1N[C@H](Cc2ccccc2...</td>\n      <td>80.0</td>\n      <td>2</td>\n      <td>CC(=O)c1cccc(C(C)N=C=O)c1.O=C1N[C@H](Cc2ccccc2...</td>\n      <td>CC1(c2cccc(C#N)c2)OCCO1</td>\n      <td>O=C1N[C@H](Cc2ccccc2)CO1</td>\n    </tr>\n    <tr>\n      <th>26399</th>\n      <td>N#Cc1c(-c2ccc(O)cc2)nn2c1NCCC2c1ccccc1N.O=C(Cl...</td>\n      <td>62.0</td>\n      <td>2</td>\n      <td>N#Cc1c(-c2ccc(O)cc2)nn2c1NCCC2c1ccccc1N.O=C(Cl...</td>\n      <td>N#Cc1c(-c2ccc(O)cc2)nn2c1NCCC2c1ccccc1NC(=O)OC...</td>\n      <td>O=C(Cl)OCc1ccccc1</td>\n    </tr>\n    <tr>\n      <th>26401</th>\n      <td>CC(C)(C)OC(=O)NCCN1CCN(C/C=C/C(=O)O)CC1.NC(=O)...</td>\n      <td>58.0</td>\n      <td>2</td>\n      <td>CC(C)(C)OC(=O)NCCN1CCN(C/C=C/C(=O)O)CC1.NC(=O)...</td>\n      <td>CC(C)(C)OC(=O)NCCN1CCN(C/C=C/C(=O)N2CCC([C@@H]...</td>\n      <td>NC(=O)c1c(-c2ccc(Oc3ccccc3)cc2)nn2c1NCC[C@H]2C...</td>\n    </tr>\n    <tr>\n      <th>26403</th>\n      <td>COc1ccc2cc(N)ccc2c1.O=C1CCC(=O)N1Br&gt;&gt;COc1ccc2c...</td>\n      <td>74.4</td>\n      <td>2</td>\n      <td>COc1ccc2cc(N)ccc2c1.O=C1CCC(=O)N1Br</td>\n      <td>COc1ccc2c(Br)c(N)ccc2c1</td>\n      <td>O=C1CCC(=O)N1Br</td>\n    </tr>\n  </tbody>\n</table>\n<p>17895 rows × 6 columns</p>\n</div>"
     },
     "execution_count": 13,
     "metadata": {},
     "output_type": "execute_result"
    }
   ],
   "source": [
    "df1 = df[df['count_reactant'] == 2]\n",
    "split = df1['CanonicalizedReaction'].str.split('>>', expand=True)\n",
    "split = split.rename(columns={0: 'reactant1', 1: 'pruduct'})\n",
    "split2 = split['reactant1'].str.split('.', expand=True)\n",
    "split2 = split2.rename(columns={1: 'reactant2'})\n",
    "df1 = df1.join([split, split2['reactant2']])\n",
    "df1"
   ],
   "metadata": {
    "collapsed": false,
    "ExecuteTime": {
     "end_time": "2024-04-20T13:02:37.328258200Z",
     "start_time": "2024-04-20T13:02:37.277978600Z"
    }
   },
   "id": "f4d64ecce19ca2f1"
  },
  {
   "cell_type": "code",
   "execution_count": null,
   "outputs": [],
   "source": [],
   "metadata": {
    "collapsed": false
   },
   "id": "b782365095dc1d17"
  }
 ],
 "metadata": {
  "kernelspec": {
   "display_name": "Python 3",
   "language": "python",
   "name": "python3"
  },
  "language_info": {
   "codemirror_mode": {
    "name": "ipython",
    "version": 2
   },
   "file_extension": ".py",
   "mimetype": "text/x-python",
   "name": "python",
   "nbconvert_exporter": "python",
   "pygments_lexer": "ipython2",
   "version": "2.7.6"
  }
 },
 "nbformat": 4,
 "nbformat_minor": 5
}
